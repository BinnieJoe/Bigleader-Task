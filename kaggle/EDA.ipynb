{
  "metadata": {
    "kernelspec": {
      "language": "python",
      "display_name": "Python 3",
      "name": "python3"
    },
    "language_info": {
      "pygments_lexer": "ipython3",
      "nbconvert_exporter": "python",
      "version": "3.6.4",
      "file_extension": ".py",
      "codemirror_mode": {
        "name": "ipython",
        "version": 3
      },
      "name": "python",
      "mimetype": "text/x-python"
    },
    "colab": {
      "provenance": []
    }
  },
  "nbformat_minor": 0,
  "nbformat": 4,
  "cells": [
    {
      "cell_type": "markdown",
      "source": [
        "# 향후 판매량 예측 경진대회 이해\n",
        "\n",
        "<div>\n",
        "    <img src=\"attachment:349bc070-ccb4-4ea3-8c2c-c50df711119a.png\" width=\"1000\"/>\n",
        "</div>\n",
        "\n",
        "### 학습 목표\n",
        "- 다양한 피처 엔지니어링 기법을 배워봅시다!\n",
        "\n",
        "### 학습 키워드\n",
        "- 유형 및 평가지표: 회귀, RMSE\n",
        "- 탐색적 데이터 분석: 데이터 병합, 그룹화\n",
        "- 머신러닝 모델: LightGBM\n",
        "- 피처 엔지니어링: 피처명 한글화, 데이터 다운캐스팅, 조합, 이어 붙이기, 병합, 이상치 제거, 파생 피처 생성\n",
        "<div>\n",
        "    <img src=\"attachment:08682f1e-9781-441f-a927-9df0959867f5.png\" width=\"700\"/>\n",
        "</div>\n",
        "\n",
        "### 경진대회 Overview\n",
        "- 과거 판매 데이터를 토대로 향후 판매량 예측\n",
        " - 타깃값은 판매량이므로 범주형 데이터가 아님. 따라 회귀 문제에 속함\n",
        "- 주어진 데이터는 2013년 1월부터 2015년 10월까지의 일별 판매 내역\n",
        " - 더불어 상점, 상품, 상품분류에 관한 추가 데이터도 있음\n",
        " - 이 데이터를 기반으로 2015년 11월 각 상점의 상품별 월간 판매량을 예측해야 함\n",
        " - 피처: 상점 및 상품에 관한 정보, 타깃값: 월간 판매량\n",
        "- 주의점\n",
        " - 상품별 월간 판매량(타깃값)은 0개에서 20개 사이여야 함\n",
        " - 타깃값뿐만 아니라 판매량과 관련된 피처는 모두 0~20 사이로 값을 제한해야 함\n",
        " <div>\n",
        "    <img src=\"attachment:dfc0ad5b-485a-4f0e-bfc7-93ed592aa64c.png\" width=\"700\"/>\n",
        "</div>"
      ],
      "metadata": {
        "id": "gyf2oNUTNE_l"
      }
    },
    {
      "cell_type": "markdown",
      "source": [
        "# 9.2 향후 판매량 예측 경진대회 탐색적 데이터 분석"
      ],
      "metadata": {
        "papermill": {
          "duration": 0.025716,
          "end_time": "2021-09-11T07:42:47.503023",
          "exception": false,
          "start_time": "2021-09-11T07:42:47.477307",
          "status": "completed"
        },
        "tags": [],
        "id": "j3BahsIANE_p"
      }
    },
    {
      "cell_type": "markdown",
      "source": [
        "## 9.2.1 데이터 둘러보기"
      ],
      "metadata": {
        "papermill": {
          "duration": 0.024117,
          "end_time": "2021-09-11T07:42:47.610822",
          "exception": false,
          "start_time": "2021-09-11T07:42:47.586705",
          "status": "completed"
        },
        "tags": [],
        "id": "KYkOl5wTNE_p"
      }
    },
    {
      "cell_type": "code",
      "source": [
        "import pandas as pd\n",
        "\n",
        "# 데이터 경로\n",
        "data_path = '/kaggle/input/competitive-data-science-predict-future-sales/'\n",
        "\n",
        "sales_train = pd.read_csv(data_path + 'sales_train.csv')\n",
        "shops = pd.read_csv(data_path + 'shops.csv')\n",
        "items = pd.read_csv(data_path + 'items.csv')\n",
        "item_categories = pd.read_csv(data_path + 'item_categories.csv')\n",
        "test = pd.read_csv(data_path + 'test.csv')\n",
        "submission = pd.read_csv(data_path + 'sample_submission.csv')"
      ],
      "metadata": {
        "papermill": {
          "duration": 2.855857,
          "end_time": "2021-09-11T07:42:50.493438",
          "exception": false,
          "start_time": "2021-09-11T07:42:47.637581",
          "status": "completed"
        },
        "tags": [],
        "execution": {
          "iopub.status.busy": "2023-05-31T05:48:49.936814Z",
          "iopub.execute_input": "2023-05-31T05:48:49.937177Z",
          "iopub.status.idle": "2023-05-31T05:48:52.163617Z",
          "shell.execute_reply.started": "2023-05-31T05:48:49.93714Z",
          "shell.execute_reply": "2023-05-31T05:48:52.162561Z"
        },
        "trusted": true,
        "id": "a-oWT9t4NE_q"
      },
      "execution_count": null,
      "outputs": []
    },
    {
      "cell_type": "markdown",
      "source": [
        "### sales_train 데이터"
      ],
      "metadata": {
        "papermill": {
          "duration": 0.023678,
          "end_time": "2021-09-11T07:42:50.54258",
          "exception": false,
          "start_time": "2021-09-11T07:42:50.518902",
          "status": "completed"
        },
        "tags": [],
        "id": "B9VUxJypNE_q"
      }
    },
    {
      "cell_type": "code",
      "source": [
        "# 예측해야 되는 것은 월간판매이기 때문.\n",
        "# 러시아 화페단위 루블.\n",
        "# 상점별 일간 판매량 1행당. 판매량이 -1은 오류값 왜 그런지 모름.\n",
        "# 일별이기 때문에 월별로 바꿔 줘야함. 그래서 타깃값을 date_block_num을 기준으로 gropby함.\n",
        "# 가장 최근 데이터인 검증데이터로 사용한다. 기간은 상관없음. 다만 검증데이터가 너무 많아지면\n",
        "# 훈련데이터가 줄어들기 때문에 좋지 않음. 훈련 정확도 vs 검증 신뢰도. 데이터가 큰경우에는 한\n",
        "# 시계열 데이터가 아닌경우에는 아까 교차검증대로 함.\n",
        "# 미래를 바탕으로 과거를 예측하는 것은 말이 안됨. 과거를 기반으로 미래를 예측해야됨.\n",
        "# 그래서 시계열 데이터는 시간의 흐름이 중요함. 시간의 흐름에 따라서 뒤쪽에 있는 것을 검증데이터를 한다.\n",
        "# 1. date 피처 제거\n",
        "# date_block_num은 편의상 사용하는 날짜(월) 구분자: 0은 2013년 1월, 1은 2013년 2월, 33은 2015년 10월\n",
        "# 최종적으로 월별 판매량을 구해야 하니 ‘월’ 구분자(date_block_num)만 있으면 됨, 따라서 date 피처 삭제\n",
        "# [분석 결과] 월별 판매량만 구하면 되니 date 피처 제거\n",
        "# item_cnt_day 피처는 당일 판매량\n",
        "# 타깃값은 ‘월간’ 판매량이므로, date_block_num 피처를 기준으로 그룹화해서 item_cnt_day 값을 합하면 타깃값이 됨\n",
        "# [분석 결과] 타깃값 = date_block_num 피처의 값이 같은 데이터들의 item_cnt_day 값의 합\n",
        "# 본 데이터는 시계열 데이터이므로 시간 흐름 자체가 중요한 정보\n",
        "# 그렇기 때문에 2013년 1월 ~ 2015년 9월까지 판매 내역을 훈련 데이터, 2015년 10월 판매 내역을 검증 데이터로 사용\n",
        "# [분석 결과] 훈련 데이터 중 가장 최근인 2015년 10월 판매 내역을 검증 데이터로 사용\n",
        "# sales_train\n",
        "sales_train"
      ],
      "metadata": {
        "papermill": {
          "duration": 0.050468,
          "end_time": "2021-09-11T07:42:50.617023",
          "exception": false,
          "start_time": "2021-09-11T07:42:50.566555",
          "status": "completed"
        },
        "tags": [],
        "execution": {
          "iopub.status.busy": "2023-05-31T05:49:23.283336Z",
          "iopub.execute_input": "2023-05-31T05:49:23.283631Z",
          "iopub.status.idle": "2023-05-31T05:49:23.313582Z",
          "shell.execute_reply.started": "2023-05-31T05:49:23.2836Z",
          "shell.execute_reply": "2023-05-31T05:49:23.312695Z"
        },
        "trusted": true,
        "id": "Mzj27dvGNE_r"
      },
      "execution_count": null,
      "outputs": []
    },
    {
      "cell_type": "markdown",
      "source": [
        "- date_block_num은 편의상 사용하는 날짜(월) 구분자: 0은 2013년 1월, 1은 2013년 2월, 33은 2015년 10월\n",
        "- 최종적으로 월별 판매량을 구해야 하니 ‘월’ 구분자(date_block_num)만 있으면 됨, 따라서 date 피처 삭제\n",
        "\n",
        "#### **<font color='orange'>[분석 결과] 월별 판매량만 구하면 되니 date 피처 제거</font>**\n",
        "\n",
        "- item_cnt_day 피처는 당일 판매량\n",
        "- 타깃값은 ‘월간’ 판매량이므로, date_block_num 피처를 기준으로 그룹화해서 item_cnt_day 값을 합하면 타깃값이 됨\n",
        "\n",
        "#### **<font color='orange'>[분석 결과] 타깃값 = date_block_num 피처의 값이 같은 데이터들의 item_cnt_day 값의 합</font>**\n",
        "\n",
        "\n",
        "- 본 데이터는 시계열 데이터이므로 시간 흐름 자체가 중요한 정보\n",
        "- 그렇기 때문에 2013년 1월 ~ 2015년 9월까지 판매 내역을 훈련 데이터, 2015년 10월 판매 내역을 검증 데이터로 사용\n",
        "\n",
        "#### **<font color='orange'>[분석 결과] 훈련 데이터 중 가장 최근인 2015년 10월 판매 내역을 검증 데이터로 사용</font>**"
      ],
      "metadata": {
        "id": "yXdFzALBNE_r"
      }
    },
    {
      "cell_type": "code",
      "source": [
        "# 메모리 사용량을 가능한 한 줄여주는 게 바람직.\n",
        "# [분석 결과] 메모리 관리 필요. 메모리 관리할 수록 속도가 빨라짐.\n",
        "sales_train.info(show_counts=True)"
      ],
      "metadata": {
        "papermill": {
          "duration": 0.397857,
          "end_time": "2021-09-11T07:42:51.039998",
          "exception": false,
          "start_time": "2021-09-11T07:42:50.642141",
          "status": "completed"
        },
        "tags": [],
        "execution": {
          "iopub.status.busy": "2023-05-31T05:55:33.533674Z",
          "iopub.execute_input": "2023-05-31T05:55:33.534043Z",
          "iopub.status.idle": "2023-05-31T05:55:33.901258Z",
          "shell.execute_reply.started": "2023-05-31T05:55:33.534006Z",
          "shell.execute_reply": "2023-05-31T05:55:33.900382Z"
        },
        "trusted": true,
        "id": "MoQV5gFCNE_r"
      },
      "execution_count": null,
      "outputs": []
    },
    {
      "cell_type": "markdown",
      "source": [
        "- 메모리 사용량을 가능한 한 줄여주는 게 바람직\n",
        "\n",
        "#### **<font color='orange'>[분석 결과] 메모리 관리 필요 </font>**"
      ],
      "metadata": {
        "id": "uRkR5H0iNE_s"
      }
    },
    {
      "cell_type": "markdown",
      "source": [
        "### shops 데이터"
      ],
      "metadata": {
        "papermill": {
          "duration": 0.024635,
          "end_time": "2021-09-11T07:42:51.089586",
          "exception": false,
          "start_time": "2021-09-11T07:42:51.064951",
          "status": "completed"
        },
        "tags": [],
        "id": "Phok_J6HNE_s"
      }
    },
    {
      "cell_type": "code",
      "source": [
        "sales_train.head(2)"
      ],
      "metadata": {
        "execution": {
          "iopub.status.busy": "2023-05-31T05:57:25.11834Z",
          "iopub.execute_input": "2023-05-31T05:57:25.118723Z",
          "iopub.status.idle": "2023-05-31T05:57:25.134065Z",
          "shell.execute_reply.started": "2023-05-31T05:57:25.118679Z",
          "shell.execute_reply": "2023-05-31T05:57:25.133072Z"
        },
        "trusted": true,
        "id": "EvQuvspzNE_t"
      },
      "execution_count": null,
      "outputs": []
    },
    {
      "cell_type": "code",
      "source": [
        "shops.head()"
      ],
      "metadata": {
        "papermill": {
          "duration": 0.038858,
          "end_time": "2021-09-11T07:42:51.15363",
          "exception": false,
          "start_time": "2021-09-11T07:42:51.114772",
          "status": "completed"
        },
        "tags": [],
        "execution": {
          "iopub.status.busy": "2023-05-31T05:57:29.50838Z",
          "iopub.execute_input": "2023-05-31T05:57:29.508747Z",
          "iopub.status.idle": "2023-05-31T05:57:29.519941Z",
          "shell.execute_reply.started": "2023-05-31T05:57:29.508692Z",
          "shell.execute_reply": "2023-05-31T05:57:29.518917Z"
        },
        "trusted": true,
        "id": "PESsTau_NE_t"
      },
      "execution_count": null,
      "outputs": []
    },
    {
      "cell_type": "markdown",
      "source": [
        "- 상점명(shop_name)은 러시아어로 기재됨, 상점명의 첫 단어는 상점이 있는 도시를 나타냄\n",
        "- 상점 ID(shop_id)는 sales_train에도 있는 피처, 그러므로 shop_id를 기준으로 sales_train과 shops를 병합\n",
        "\n",
        "#### **<font color='orange'>[분석 결과] 상점 이름의 첫 단어는 도시를 뜻함 </font>**\n",
        "\n",
        "#### **<font color='orange'>[분석 결과] shop_id를 기준으로 sales_train과 shops 병합 </font>**"
      ],
      "metadata": {
        "id": "RM3npOExNE_t"
      }
    },
    {
      "cell_type": "code",
      "source": [
        "shops.info()"
      ],
      "metadata": {
        "papermill": {
          "duration": 0.040148,
          "end_time": "2021-09-11T07:42:51.219816",
          "exception": false,
          "start_time": "2021-09-11T07:42:51.179668",
          "status": "completed"
        },
        "tags": [],
        "execution": {
          "iopub.status.busy": "2023-05-31T05:59:17.748929Z",
          "iopub.execute_input": "2023-05-31T05:59:17.749319Z",
          "iopub.status.idle": "2023-05-31T05:59:17.763885Z",
          "shell.execute_reply.started": "2023-05-31T05:59:17.749282Z",
          "shell.execute_reply": "2023-05-31T05:59:17.762928Z"
        },
        "trusted": true,
        "id": "z3y9Z2e-NE_t"
      },
      "execution_count": null,
      "outputs": []
    },
    {
      "cell_type": "markdown",
      "source": [
        "- 상점은 딱 60개만 있음\n",
        "- 결측값도 없고, 데이터 개수가 적어서 메모리 사용량도 1.1KB 정도로 적음"
      ],
      "metadata": {
        "id": "esW8PF_cNE_t"
      }
    },
    {
      "cell_type": "markdown",
      "source": [
        "### items 데이터"
      ],
      "metadata": {
        "papermill": {
          "duration": 0.02549,
          "end_time": "2021-09-11T07:42:51.272867",
          "exception": false,
          "start_time": "2021-09-11T07:42:51.247377",
          "status": "completed"
        },
        "tags": [],
        "id": "TFk0AD4bNE_t"
      }
    },
    {
      "cell_type": "code",
      "source": [
        "items.head()"
      ],
      "metadata": {
        "papermill": {
          "duration": 0.039263,
          "end_time": "2021-09-11T07:42:51.338491",
          "exception": false,
          "start_time": "2021-09-11T07:42:51.299228",
          "status": "completed"
        },
        "tags": [],
        "execution": {
          "iopub.status.busy": "2023-05-31T05:59:29.285822Z",
          "iopub.execute_input": "2023-05-31T05:59:29.286116Z",
          "iopub.status.idle": "2023-05-31T05:59:29.296027Z",
          "shell.execute_reply.started": "2023-05-31T05:59:29.286086Z",
          "shell.execute_reply": "2023-05-31T05:59:29.295374Z"
        },
        "trusted": true,
        "id": "VBcNK9dTNE_u"
      },
      "execution_count": null,
      "outputs": []
    },
    {
      "cell_type": "markdown",
      "source": [
        "- 상품명(러시아어), 상품 ID, 상품분류 ID로 구성\n",
        "- 상품명에서는 유용한 정보를 얻기 어려워 모델링 시 제거\n",
        "- item_id 피처는 sales_train에도 존재, 따라서 item_id 피처를 기준으로 sales_train과 items 병합 가능\n",
        "\n",
        "#### **<font color='orange'>[분석 결과] 상품명 피처 제거 </font>**\n",
        "\n",
        "#### **<font color='orange'>[분석 결과] item_id를 기준으로 sales_train과 items 병합 </font>**"
      ],
      "metadata": {
        "id": "_Pajki_XNE_u"
      }
    },
    {
      "cell_type": "code",
      "source": [
        "items.info()"
      ],
      "metadata": {
        "papermill": {
          "duration": 0.045408,
          "end_time": "2021-09-11T07:42:51.409909",
          "exception": false,
          "start_time": "2021-09-11T07:42:51.364501",
          "status": "completed"
        },
        "tags": [],
        "execution": {
          "iopub.status.busy": "2023-05-31T06:01:41.145728Z",
          "iopub.execute_input": "2023-05-31T06:01:41.14609Z",
          "iopub.status.idle": "2023-05-31T06:01:41.163318Z",
          "shell.execute_reply.started": "2023-05-31T06:01:41.146053Z",
          "shell.execute_reply": "2023-05-31T06:01:41.162516Z"
        },
        "trusted": true,
        "id": "5O3JtcKKNE_u"
      },
      "execution_count": null,
      "outputs": []
    },
    {
      "cell_type": "markdown",
      "source": [
        "### item_categories 데이터"
      ],
      "metadata": {
        "papermill": {
          "duration": 0.026293,
          "end_time": "2021-09-11T07:42:51.464626",
          "exception": false,
          "start_time": "2021-09-11T07:42:51.438333",
          "status": "completed"
        },
        "tags": [],
        "id": "wi4vZlr6NE_u"
      }
    },
    {
      "cell_type": "code",
      "source": [
        "sales_train.head(2)"
      ],
      "metadata": {
        "execution": {
          "iopub.status.busy": "2022-12-27T04:53:49.519147Z",
          "iopub.execute_input": "2022-12-27T04:53:49.519473Z",
          "iopub.status.idle": "2022-12-27T04:53:49.531139Z",
          "shell.execute_reply.started": "2022-12-27T04:53:49.519441Z",
          "shell.execute_reply": "2022-12-27T04:53:49.530484Z"
        },
        "trusted": true,
        "id": "iIYdKBHtNE_u"
      },
      "execution_count": null,
      "outputs": []
    },
    {
      "cell_type": "code",
      "source": [
        "# 상점명(shop_name)은 러시아어로 기재됨, 상점명의 첫 단어는 상점이 있는 도시를 나타냄\n",
        "# 상점 ID(shop_id)는 sales_train에도 있는 피처, 그러므로 shop_id를 기준으로 sales_train과 shops를 병합\n",
        "item_categories.head()"
      ],
      "metadata": {
        "papermill": {
          "duration": 0.038888,
          "end_time": "2021-09-11T07:42:51.529988",
          "exception": false,
          "start_time": "2021-09-11T07:42:51.4911",
          "status": "completed"
        },
        "tags": [],
        "execution": {
          "iopub.status.busy": "2023-05-31T06:01:56.387345Z",
          "iopub.execute_input": "2023-05-31T06:01:56.387797Z",
          "iopub.status.idle": "2023-05-31T06:01:56.399612Z",
          "shell.execute_reply.started": "2023-05-31T06:01:56.387764Z",
          "shell.execute_reply": "2023-05-31T06:01:56.398403Z"
        },
        "trusted": true,
        "id": "5GGdDnvBNE_u"
      },
      "execution_count": null,
      "outputs": []
    },
    {
      "cell_type": "markdown",
      "source": [
        "- 상품분류명과 상품분류 ID로 구성\n",
        "- sales_train에도 item_category_id 피처가 있어서, 이 피처를 기준으로 sales_train과 item_categories 병합\n",
        "- 상품분류명의 첫 단어는 대분류를 뜻함\n",
        "\n",
        "#### **<font color='orange'>[분석 결과] item_category_id를 기준으로 sales_train과 item_categories 병합 </font>**\n",
        "\n",
        "#### **<font color='orange'>[분석 결과] 상품분류명에서 첫 단어는 대분류 </font>**"
      ],
      "metadata": {
        "id": "68051mgsNE_u"
      }
    },
    {
      "cell_type": "code",
      "source": [
        "item_categories.info()"
      ],
      "metadata": {
        "papermill": {
          "duration": 0.042862,
          "end_time": "2021-09-11T07:42:51.599736",
          "exception": false,
          "start_time": "2021-09-11T07:42:51.556874",
          "status": "completed"
        },
        "tags": [],
        "execution": {
          "iopub.status.busy": "2023-05-31T06:04:07.912096Z",
          "iopub.execute_input": "2023-05-31T06:04:07.912602Z",
          "iopub.status.idle": "2023-05-31T06:04:07.930342Z",
          "shell.execute_reply.started": "2023-05-31T06:04:07.912557Z",
          "shell.execute_reply": "2023-05-31T06:04:07.928037Z"
        },
        "trusted": true,
        "id": "2RUap99QNE_v"
      },
      "execution_count": null,
      "outputs": []
    },
    {
      "cell_type": "markdown",
      "source": [
        "#### **<font color='orange'>[분석 결과] 모든 데이터에 결측값 없음 </font>**"
      ],
      "metadata": {
        "id": "l8s4ECg8NE_v"
      }
    },
    {
      "cell_type": "markdown",
      "source": [
        "### 테스트 데이터"
      ],
      "metadata": {
        "papermill": {
          "duration": 0.027033,
          "end_time": "2021-09-11T07:42:51.654956",
          "exception": false,
          "start_time": "2021-09-11T07:42:51.627923",
          "status": "completed"
        },
        "tags": [],
        "id": "FCFOrQeFNE_v"
      }
    },
    {
      "cell_type": "code",
      "source": [
        "test"
      ],
      "metadata": {
        "execution": {
          "iopub.status.busy": "2023-05-31T06:05:34.993158Z",
          "iopub.execute_input": "2023-05-31T06:05:34.99351Z",
          "iopub.status.idle": "2023-05-31T06:05:35.007662Z",
          "shell.execute_reply.started": "2023-05-31T06:05:34.993473Z",
          "shell.execute_reply": "2023-05-31T06:05:35.006548Z"
        },
        "trusted": true,
        "id": "UPmiYg5pNE_v"
      },
      "execution_count": null,
      "outputs": []
    },
    {
      "cell_type": "markdown",
      "source": [
        "### 제출 샘플 데이터"
      ],
      "metadata": {
        "id": "15sAeorjNE_v"
      }
    },
    {
      "cell_type": "code",
      "source": [
        "# 제출 샘플 데이터.\n",
        "# 1번쩨 아이디에서의 월간 판매율은 몇이냐.\n",
        "submission.head()"
      ],
      "metadata": {
        "execution": {
          "iopub.status.busy": "2023-05-31T06:06:22.265988Z",
          "iopub.execute_input": "2023-05-31T06:06:22.266326Z",
          "iopub.status.idle": "2023-05-31T06:06:22.278729Z",
          "shell.execute_reply.started": "2023-05-31T06:06:22.266288Z",
          "shell.execute_reply": "2023-05-31T06:06:22.27775Z"
        },
        "trusted": true,
        "id": "wbs0igT1NE_v"
      },
      "execution_count": null,
      "outputs": []
    },
    {
      "cell_type": "markdown",
      "source": [
        "### 데이터 병합\n",
        "- 피처 요약표를 만들고 시각화를 하기 위해 데이터 병합\n",
        " - 앞서 설명한 바와 같이 특정 피처를 기준으로 병합\n",
        " - 판다스 merge( ) 함수로 구현\n",
        "- sales_train, shops, items, item_categories를 모두 병합해 그 결과를 train에 할당"
      ],
      "metadata": {
        "papermill": {
          "duration": 0.027577,
          "end_time": "2021-09-11T07:42:51.777761",
          "exception": false,
          "start_time": "2021-09-11T07:42:51.750184",
          "status": "completed"
        },
        "tags": [],
        "id": "rc0F9uyZNE_v"
      }
    },
    {
      "cell_type": "markdown",
      "source": [
        "1. 왼쪽 테이블 기준으로 병합\n",
        "\n",
        "![image.png](attachment:78c2b1d4-e68f-44c9-b8b6-4ed98285605d.png)"
      ],
      "metadata": {
        "id": "Gsvj4Bh0NE_v"
      }
    },
    {
      "cell_type": "markdown",
      "source": [
        "2. 오른쪽 테이블 기준으로 병합\n",
        "\n",
        "![image.png](attachment:3304a91f-a371-4bc3-b247-9a33a2612a21.png)"
      ],
      "metadata": {
        "id": "XvOgHfiXNE_v"
      }
    },
    {
      "cell_type": "code",
      "source": [
        "# 별도의 csv파일들을 기준을 잡아서 한 훈련 데이터로 합친것.\n",
        "train = sales_train.merge(shops, on='shop_id', how='left')\n",
        "train = train.merge(items, on='item_id', how='left')\n",
        "train = train.merge(item_categories, on='item_category_id', how='left')\n",
        "\n",
        "train.head()"
      ],
      "metadata": {
        "papermill": {
          "duration": 1.410432,
          "end_time": "2021-09-11T07:42:53.216199",
          "exception": false,
          "start_time": "2021-09-11T07:42:51.805767",
          "status": "completed"
        },
        "tags": [],
        "execution": {
          "iopub.status.busy": "2023-05-31T06:10:04.167013Z",
          "iopub.execute_input": "2023-05-31T06:10:04.167357Z",
          "iopub.status.idle": "2023-05-31T06:10:05.914591Z",
          "shell.execute_reply.started": "2023-05-31T06:10:04.167326Z",
          "shell.execute_reply": "2023-05-31T06:10:05.913438Z"
        },
        "trusted": true,
        "id": "tXsiD1P7NE_w"
      },
      "execution_count": null,
      "outputs": []
    },
    {
      "cell_type": "markdown",
      "source": [
        "### 피처 요약표 만들기\n",
        "- 데이터 타입, 결측값 개수, 고윳값 개수, 첫 번째 값, 두 번째 값을 포함한 피처 요약표 만들기(p.622)\n"
      ],
      "metadata": {
        "papermill": {
          "duration": 0.028144,
          "end_time": "2021-09-11T07:42:53.273543",
          "exception": false,
          "start_time": "2021-09-11T07:42:53.245399",
          "status": "completed"
        },
        "tags": [],
        "id": "HwNw0kTiNE_w"
      }
    },
    {
      "cell_type": "code",
      "source": [
        "def resumetable(df):\n",
        "    print(f'데이터 세트 형상: {df.shape}')\n",
        "    summary = pd.DataFrame(df.dtypes, columns=['데이터 타입'])\n",
        "    summary = summary.reset_index()\n",
        "    summary = summary.rename(columns={'index': '피처'})\n",
        "    summary['결측값 개수'] = df.isnull().sum().values\n",
        "    summary['고윳값 개수'] = df.nunique().values\n",
        "    summary['첫 번째 값'] = df.loc[0].values\n",
        "    summary['두 번째 값'] = df.loc[1].values\n",
        "\n",
        "    return summary"
      ],
      "metadata": {
        "papermill": {
          "duration": 0.045257,
          "end_time": "2021-09-11T07:42:53.347191",
          "exception": false,
          "start_time": "2021-09-11T07:42:53.301934",
          "status": "completed"
        },
        "tags": [],
        "execution": {
          "iopub.status.busy": "2023-05-31T06:36:19.996792Z",
          "iopub.execute_input": "2023-05-31T06:36:19.997136Z",
          "iopub.status.idle": "2023-05-31T06:36:20.005228Z",
          "shell.execute_reply.started": "2023-05-31T06:36:19.997105Z",
          "shell.execute_reply": "2023-05-31T06:36:20.004122Z"
        },
        "trusted": true,
        "id": "XQmEZDpONE_w"
      },
      "execution_count": null,
      "outputs": []
    },
    {
      "cell_type": "code",
      "source": [
        "resumetable(train)"
      ],
      "metadata": {
        "papermill": {
          "duration": 3.205732,
          "end_time": "2021-09-11T07:42:56.597966",
          "exception": false,
          "start_time": "2021-09-11T07:42:53.392234",
          "status": "completed"
        },
        "tags": [],
        "execution": {
          "iopub.status.busy": "2023-05-31T06:36:26.663363Z",
          "iopub.execute_input": "2023-05-31T06:36:26.663651Z",
          "iopub.status.idle": "2023-05-31T06:36:30.049137Z",
          "shell.execute_reply.started": "2023-05-31T06:36:26.663622Z",
          "shell.execute_reply": "2023-05-31T06:36:30.048226Z"
        },
        "trusted": true,
        "id": "gHAY0IK_NE_w"
      },
      "execution_count": null,
      "outputs": []
    },
    {
      "cell_type": "markdown",
      "source": [
        "- shop_id와 shop_name, item_id와 item_name, item_category_id와 item_category_name 피처의 고윳값 개수가 서로 같음\n",
        "\n",
        "#### **<font color='orange'>[분석 결과] 상점ID, 상품ID, 상품분류ID는 각각 상점명, 상품명, 상품분류명과 1:1 매칭되므로 둘 중 하나 제거 </font>**"
      ],
      "metadata": {
        "id": "7c4Wj_QfNE_w"
      }
    },
    {
      "cell_type": "markdown",
      "source": [
        "## 9.2.2 데이터 시각화\n",
        "- 병합한 train을 이용해 데이터 시각화\n",
        "- 피처 개수가 많지 않고, 그중 일부는 식별자거나 문자 데이터라서 시각화할 게 별로 없음"
      ],
      "metadata": {
        "papermill": {
          "duration": 0.029142,
          "end_time": "2021-09-11T07:42:56.660787",
          "exception": false,
          "start_time": "2021-09-11T07:42:56.631645",
          "status": "completed"
        },
        "tags": [],
        "id": "9nGYIvNCNE_w"
      }
    },
    {
      "cell_type": "markdown",
      "source": [
        "### 일별 판매량\n",
        "- train에서 식별자나 문자 데이터를 빼면 item_cnt_day 피처와 item_price 피처만 남음\n",
        "- 우선 item_cnt_day 피처 시각화"
      ],
      "metadata": {
        "papermill": {
          "duration": 0.029501,
          "end_time": "2021-09-11T07:42:56.719566",
          "exception": false,
          "start_time": "2021-09-11T07:42:56.690065",
          "status": "completed"
        },
        "tags": [],
        "id": "DyO_xgGkNE_w"
      }
    },
    {
      "cell_type": "code",
      "source": [
        "import seaborn as sns\n",
        "import matplotlib as mpl\n",
        "import matplotlib.pyplot as plt\n",
        "\n",
        "sns.boxplot(y='item_cnt_day', data=train);"
      ],
      "metadata": {
        "papermill": {
          "duration": 2.263614,
          "end_time": "2021-09-11T07:42:59.013178",
          "exception": false,
          "start_time": "2021-09-11T07:42:56.749564",
          "status": "completed"
        },
        "tags": [],
        "execution": {
          "iopub.status.busy": "2023-05-31T06:40:27.1084Z",
          "iopub.execute_input": "2023-05-31T06:40:27.108771Z",
          "iopub.status.idle": "2023-05-31T06:40:29.545685Z",
          "shell.execute_reply.started": "2023-05-31T06:40:27.108732Z",
          "shell.execute_reply": "2023-05-31T06:40:29.544702Z"
        },
        "trusted": true,
        "id": "_9IB3H9mNE_x"
      },
      "execution_count": null,
      "outputs": []
    },
    {
      "cell_type": "markdown",
      "source": [
        "- 이상치가 많아서 박스플롯 모양이 이상함\n",
        "- 과한 이상치는 제거해야 함\n",
        "- 여기선 item_cnt_day 1,000 이상인 데이터 제거\n",
        "\n",
        "#### **<font color='orange'>[분석 결과] 일별 판매량 1,000 이상인 데이터(이상치) 제거 </font>**"
      ],
      "metadata": {
        "id": "BBBcq7xcNE_y"
      }
    },
    {
      "cell_type": "markdown",
      "source": [
        "### 상품 가격"
      ],
      "metadata": {
        "papermill": {
          "duration": 0.030111,
          "end_time": "2021-09-11T07:42:59.074223",
          "exception": false,
          "start_time": "2021-09-11T07:42:59.044112",
          "status": "completed"
        },
        "tags": [],
        "id": "QdYTzGoONE_y"
      }
    },
    {
      "cell_type": "code",
      "source": [
        "sns.boxplot(y='item_price', data=train);"
      ],
      "metadata": {
        "papermill": {
          "duration": 1.291327,
          "end_time": "2021-09-11T07:43:00.401743",
          "exception": false,
          "start_time": "2021-09-11T07:42:59.110416",
          "status": "completed"
        },
        "tags": [],
        "execution": {
          "iopub.status.busy": "2023-05-31T06:42:08.395273Z",
          "iopub.execute_input": "2023-05-31T06:42:08.395596Z",
          "iopub.status.idle": "2023-05-31T06:42:09.669026Z",
          "shell.execute_reply.started": "2023-05-31T06:42:08.395566Z",
          "shell.execute_reply": "2023-05-31T06:42:09.668036Z"
        },
        "trusted": true,
        "id": "6qC7yKRNNE_y"
      },
      "execution_count": null,
      "outputs": []
    },
    {
      "cell_type": "markdown",
      "source": [
        "- 300,000루블(약 450만 원)이 넘는 판매가 때문에 박스플롯 모양이 역시 납작함\n",
        "- 추후 판매가 50,000루블 이상인 이상치는 제거\n",
        "\n",
        "#### **<font color='orange'>[분석 결과] 판매가 50,000 이상인 데이터(이상치) 제거 </font>**"
      ],
      "metadata": {
        "id": "FK8lpIkNNE_y"
      }
    },
    {
      "cell_type": "markdown",
      "source": [
        "### 그룹화\n",
        "- 특정 피처를 기준으로 그룹화해서 시각화\n",
        " - 다음 코드는 train의 date_block_num 피처를 기준으로 그룹화해 item_cnt_day 피처 값의 합(sum)을 구하는 코드 (월별(date_block_num) 월간 판매량(item_cnt_day의 합)을 구한다는 말)"
      ],
      "metadata": {
        "papermill": {
          "duration": 0.030393,
          "end_time": "2021-09-11T07:43:00.462796",
          "exception": false,
          "start_time": "2021-09-11T07:43:00.432403",
          "status": "completed"
        },
        "tags": [],
        "id": "GytyMfsLNE_y"
      }
    },
    {
      "cell_type": "code",
      "source": [
        "train.head(2)"
      ],
      "metadata": {
        "execution": {
          "iopub.status.busy": "2023-05-31T06:43:34.670842Z",
          "iopub.execute_input": "2023-05-31T06:43:34.671182Z",
          "iopub.status.idle": "2023-05-31T06:43:34.688243Z",
          "shell.execute_reply.started": "2023-05-31T06:43:34.671151Z",
          "shell.execute_reply": "2023-05-31T06:43:34.68731Z"
        },
        "trusted": true,
        "id": "B5DMEpivNE_y"
      },
      "execution_count": null,
      "outputs": []
    },
    {
      "cell_type": "code",
      "source": [
        "group = train.groupby('date_block_num').agg({'item_cnt_day': 'sum'})\n",
        "group.reset_index() # 인덱스 재설정"
      ],
      "metadata": {
        "papermill": {
          "duration": 0.103389,
          "end_time": "2021-09-11T07:43:00.596827",
          "exception": false,
          "start_time": "2021-09-11T07:43:00.493438",
          "status": "completed"
        },
        "tags": [],
        "execution": {
          "iopub.status.busy": "2023-05-31T06:44:28.705723Z",
          "iopub.execute_input": "2023-05-31T06:44:28.70603Z",
          "iopub.status.idle": "2023-05-31T06:44:28.780715Z",
          "shell.execute_reply.started": "2023-05-31T06:44:28.705999Z",
          "shell.execute_reply": "2023-05-31T06:44:28.779868Z"
        },
        "trusted": true,
        "id": "DH1UxCNlNE_y"
      },
      "execution_count": null,
      "outputs": []
    },
    {
      "cell_type": "markdown",
      "source": [
        "- reset_index( )를 호출하지 않으면 그룹화한 date_block_num 피처가 인덱스로 설정됨\n",
        "- 그래프를 그릴 때 date_block_num 피처를 사용해야 해서 인덱스를 재설정함"
      ],
      "metadata": {
        "id": "Qap02t8nNE_z"
      }
    },
    {
      "cell_type": "markdown",
      "source": [
        "#### groupby 원리\n",
        "- 한 개 이상 피처를 기준으로 데이터 분리 (앞 코드에서 기준이 되는 피처는 date_block_num)\n",
        "- 분리된 각 그룹에서 함수를 적용해 집곗값 구함 (앞 코드에서는 agg( ) 메서드로 item_cnt_day 피처에 ‘sum’ 함수를 적용해 판매량 합계를 구함)\n",
        "- 기준 피처별로 집곗값 결과를 하나로 결합\n",
        " <div>\n",
        "    <img src=\"attachment:52ea4feb-cc6d-4b31-b544-d64c61566b83.png\" width=\"700\"/>\n",
        "</div>"
      ],
      "metadata": {
        "id": "fA4P7qkVNE_z"
      }
    },
    {
      "cell_type": "markdown",
      "source": [
        "### 월별 판매량\n",
        "- groupby 합 연산 결과인 group을 활용해 시각화 (= 월별 판매량)"
      ],
      "metadata": {
        "papermill": {
          "duration": 0.031113,
          "end_time": "2021-09-11T07:43:00.659695",
          "exception": false,
          "start_time": "2021-09-11T07:43:00.628582",
          "status": "completed"
        },
        "tags": [],
        "id": "Y55YGQy5NE_z"
      }
    },
    {
      "cell_type": "code",
      "source": [
        "mpl.rc('font', size=13)\n",
        "figure, ax = plt.subplots()\n",
        "figure.set_size_inches(11, 5)\n",
        "\n",
        "# 월별 총 상품 판매량\n",
        "group_month_sum = train.groupby('date_block_num').agg({'item_cnt_day': 'sum'})\n",
        "group_month_sum = group_month_sum.reset_index()\n",
        "\n",
        "# 월별 총 상품 판매량 막대그래프\n",
        "sns.barplot(x='date_block_num', y='item_cnt_day', data=group_month_sum)\n",
        "# 그래프 제목, x축 라벨, y축 라벨명 설정\n",
        "ax.set(title='Distribution of monthly item counts by date block number',\n",
        "       xlabel='Date block number',\n",
        "       ylabel='Monthly item counts');"
      ],
      "metadata": {
        "papermill": {
          "duration": 0.625596,
          "end_time": "2021-09-11T07:43:01.316916",
          "exception": false,
          "start_time": "2021-09-11T07:43:00.69132",
          "status": "completed"
        },
        "tags": [],
        "execution": {
          "iopub.status.busy": "2023-05-31T06:46:25.254904Z",
          "iopub.execute_input": "2023-05-31T06:46:25.255242Z",
          "iopub.status.idle": "2023-05-31T06:46:25.917101Z",
          "shell.execute_reply.started": "2023-05-31T06:46:25.255197Z",
          "shell.execute_reply": "2023-05-31T06:46:25.916125Z"
        },
        "trusted": true,
        "id": "NG1YBHVjNE_z"
      },
      "execution_count": null,
      "outputs": []
    },
    {
      "cell_type": "markdown",
      "source": [
        "### 상품분류별 판매량\n",
        "- 월간 판매량 10,000개 초과인 상품분류만 추출해서 시각화"
      ],
      "metadata": {
        "papermill": {
          "duration": 0.032102,
          "end_time": "2021-09-11T07:43:01.381471",
          "exception": false,
          "start_time": "2021-09-11T07:43:01.349369",
          "status": "completed"
        },
        "tags": [],
        "id": "aKUBx-44NE_z"
      }
    },
    {
      "cell_type": "code",
      "source": [
        "figure, ax= plt.subplots()\n",
        "figure.set_size_inches(11, 5)\n",
        "\n",
        "# 상품분류별 총 상품 판매량\n",
        "group_cat_sum = train.groupby('item_category_id').agg({'item_cnt_day': 'sum'})\n",
        "group_cat_sum = group_cat_sum.reset_index()\n",
        "\n",
        "# 총 판매량이 10,000개를 초과하는 상품분류만 추출\n",
        "group_cat_sum = group_cat_sum[group_cat_sum['item_cnt_day'] > 10000]\n",
        "\n",
        "# 상품분류별 총 상품 판매량 막대그래프\n",
        "sns.barplot(x='item_category_id', y='item_cnt_day', data=group_cat_sum)\n",
        "ax.set(title='Distribution of total item counts by item category id',\n",
        "       xlabel='Item category ID',\n",
        "       ylabel='Total item counts')\n",
        "ax.tick_params(axis='x', labelrotation=90) # x축 라벨 회전"
      ],
      "metadata": {
        "papermill": {
          "duration": 0.909324,
          "end_time": "2021-09-11T07:43:02.323389",
          "exception": false,
          "start_time": "2021-09-11T07:43:01.414065",
          "status": "completed"
        },
        "tags": [],
        "execution": {
          "iopub.status.busy": "2023-05-31T06:47:35.240398Z",
          "iopub.execute_input": "2023-05-31T06:47:35.240739Z",
          "iopub.status.idle": "2023-05-31T06:47:36.244132Z",
          "shell.execute_reply.started": "2023-05-31T06:47:35.240705Z",
          "shell.execute_reply": "2023-05-31T06:47:36.243325Z"
        },
        "trusted": true,
        "id": "O3W7AetjNE_z"
      },
      "execution_count": null,
      "outputs": []
    },
    {
      "cell_type": "markdown",
      "source": [
        "### 상점별 판매량\n",
        "- 월간 판매량 10,000개 초과인 상점만 추출해서 시각화"
      ],
      "metadata": {
        "papermill": {
          "duration": 0.033112,
          "end_time": "2021-09-11T07:43:02.389763",
          "exception": false,
          "start_time": "2021-09-11T07:43:02.356651",
          "status": "completed"
        },
        "tags": [],
        "id": "BwkH6GK7NE_z"
      }
    },
    {
      "cell_type": "code",
      "source": [
        "figure, ax= plt.subplots()\n",
        "figure.set_size_inches(11, 5)\n",
        "\n",
        "# 상점별 총 상품 판매량\n",
        "group_shop_sum = train.groupby('shop_id').agg({'item_cnt_day': 'sum'})\n",
        "group_shop_sum = group_shop_sum.reset_index()\n",
        "\n",
        "group_shop_sum = group_shop_sum[group_shop_sum['item_cnt_day'] > 10000]\n",
        "\n",
        "# 상점별 총 상품 판매량 막대그래프\n",
        "sns.barplot(x='shop_id', y='item_cnt_day', data=group_shop_sum)\n",
        "ax.set(title='Distribution of total item counts by shop id',\n",
        "       xlabel='Shop ID',\n",
        "       ylabel='Total item counts')\n",
        "ax.tick_params(axis='x', labelrotation=90)"
      ],
      "metadata": {
        "papermill": {
          "duration": 0.891601,
          "end_time": "2021-09-11T07:43:03.314547",
          "exception": false,
          "start_time": "2021-09-11T07:43:02.422946",
          "status": "completed"
        },
        "tags": [],
        "execution": {
          "iopub.status.busy": "2023-05-31T06:48:33.822586Z",
          "iopub.execute_input": "2023-05-31T06:48:33.822915Z",
          "iopub.status.idle": "2023-05-31T06:48:34.795187Z",
          "shell.execute_reply.started": "2023-05-31T06:48:33.822882Z",
          "shell.execute_reply": "2023-05-31T06:48:34.794058Z"
        },
        "trusted": true,
        "id": "QvyHNsxqNE_0"
      },
      "execution_count": null,
      "outputs": []
    },
    {
      "cell_type": "markdown",
      "source": [
        "### 분석 결과\n",
        "- [분석 결과] 월별 판매량만 구하면 되니 date 피처 제거\n",
        "- [분석 결과] 타깃값 = date_block_num 피처의 값이 같은 데이터들의 item_cnt_day 값의 합\n",
        "- [분석 결과] 훈련 데이터 중 가장 최근인 2015년 10월 판매 내역을 검증 데이터로 사용\n",
        "- [분석 결과] 메모리 관리 필요\n",
        "- [분석 결과] 상점 이름의 첫 단어는 도시를 뜻함\n",
        "- [분석 결과] shop_id를 기준으로 sales_train과 shops 병합\n",
        "- [분석 결과] 상품명 피처 제거\n",
        "- [분석 결과] item_id를 기준으로 sales_train과 items 병합\n",
        "- [분석 결과] item_category_id를 기준으로 sales_train과 item_categories 병합\n",
        "- [분석 결과] 상품분류명에서 첫 단어는 대분류\n",
        "- [분석 결과] 모든 데이터에 결측값 없음\n",
        "- [분석 결과] 상점ID, 상품ID, 상품분류ID는 각각 상점명, 상품명, 상품분류명과 1:1 매칭되므로 둘 중 하나 제거\n",
        "- [분석 결과] 일별 판매량 1,000 이상인 데이터(이상치) 제거"
      ],
      "metadata": {
        "id": "JCqG_nAeNE_0"
      }
    },
    {
      "cell_type": "markdown",
      "source": [
        "### 분석 정리\n",
        "1. 판매량 관련 피처 값은 모두 0~20 사이로 제한해야 함\n",
        "2. 시계열 데이터이므로 데이터 순서를 꼭 지켜야 함(검증 데이터는 최근 1개월치 이용)\n",
        "3. 타깃값 : 같은 달 일별 판매량을 합쳐 타깃값(월별 판매량)을 구해야 함\n",
        "4. 데이터 병합 : 추가 정보 파일(상점, 상품, 상품분류)은 각각의 ID(상점ID, 상품ID, 상품분류ID)를 기준으로 훈련 데이터에 병합할 수 있음\n",
        "5. 다양한 피처 엔지니어링 후 데이터 크기가 커서 메모리 관리 필요\n",
        "6. 파생 피처 추가 : 상점명과 상품분류명의 첫 단어는 각각 도시와 대분류\n",
        "7. 피처 제거 : 월별 판매량만 구하면 되니 date 피처 필요 없음\n",
        "8. 피처 제거 : 상점ID, 상품ID, 상품분류ID는 각각 상점명, 상품명, 상품분류명과 1:1로 매칭되므로 둘 중 하나만 있으면 됨\n",
        "9. 이상치 제거 : 일별 판매량과 판매가에는 값이 이상치가 있어서 제거 필요\n",
        "10. 모든 데이터에서 결측값이 없음"
      ],
      "metadata": {
        "id": "KWNvrtF5NE_0"
      }
    }
  ]
}