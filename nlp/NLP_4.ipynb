{
  "nbformat": 4,
  "nbformat_minor": 0,
  "metadata": {
    "colab": {
      "provenance": []
    },
    "kernelspec": {
      "name": "python3",
      "display_name": "Python 3"
    },
    "language_info": {
      "name": "python"
    }
  },
  "cells": [
    {
      "cell_type": "code",
      "source": [
        "import re\n",
        "\n",
        "p = re.compile(r'^[\\w+-_.]+@[a-zA-Z0-9-]+\\.[a-zA-Z0-9-.]+$')\n",
        "emails = ['python@mail.example.com', 'python+kr@example.com','python-dojang@example.co.kr',\n",
        "          'python_10@example.info', 'python.dojang@e-xample.com',\n",
        "          '@example.com', 'python@example', 'python@example-com'] #잘못된 형식\n",
        "\n",
        "for email in emails:\n",
        "    print(p.match(email) != None, end=' ')"
      ],
      "metadata": {
        "colab": {
          "base_uri": "https://localhost:8080/"
        },
        "id": "4yaxoFn-Ve0D",
        "outputId": "da948a1e-386f-475c-f1a7-5507e585c25b"
      },
      "execution_count": 2,
      "outputs": [
        {
          "output_type": "stream",
          "name": "stdout",
          "text": [
            "True True True True True False False False "
          ]
        }
      ]
    }
  ]
}