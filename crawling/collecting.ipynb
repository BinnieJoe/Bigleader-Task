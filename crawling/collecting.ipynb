{
 "cells": [
  {
   "cell_type": "code",
   "execution_count": 11,
   "metadata": {},
   "outputs": [
    {
     "ename": "AttributeError",
     "evalue": "'WebElement' object has no attribute 'sends_keys'",
     "output_type": "error",
     "traceback": [
      "\u001b[1;31m---------------------------------------------------------------------------\u001b[0m",
      "\u001b[1;31mAttributeError\u001b[0m                            Traceback (most recent call last)",
      "Cell \u001b[1;32mIn[11], line 16\u001b[0m\n\u001b[0;32m     12\u001b[0m driver\u001b[39m.\u001b[39mmaximize_window()\n\u001b[0;32m     14\u001b[0m \u001b[39m# //*[@id=\"placeHolder\"]\u001b[39;00m\n\u001b[1;32m---> 16\u001b[0m ts(\u001b[39m1\u001b[39m);driver\u001b[39m.\u001b[39;49mfind_element(By\u001b[39m.\u001b[39;49mXPATH, \u001b[39m'\u001b[39;49m\u001b[39m//*[@id=\u001b[39;49m\u001b[39m\"\u001b[39;49m\u001b[39mplaceHolder\u001b[39;49m\u001b[39m\"\u001b[39;49m\u001b[39m]\u001b[39;49m\u001b[39m'\u001b[39;49m)\u001b[39m.\u001b[39;49msends_keys(\u001b[39m'\u001b[39m\u001b[39m여름여행\u001b[39m\u001b[39m'\u001b[39m\u001b[39m+\u001b[39m\u001b[39m'\u001b[39m\u001b[39m\\n\u001b[39;00m\u001b[39m'\u001b[39m)\n\u001b[0;32m     17\u001b[0m \u001b[39m# ts(1);driver.find_element(By.ID, 'placeHolder').send_keys('여름여행'+'\\n')\u001b[39;00m\n\u001b[0;32m     19\u001b[0m ts(\u001b[39m0.1\u001b[39m);driver\u001b[39m.\u001b[39mfind_element(By\u001b[39m.\u001b[39mCLASS_NAME, \u001b[39m\"\u001b[39m\u001b[39moption\u001b[39m\u001b[39m\"\u001b[39m)\u001b[39m.\u001b[39mclick()\n",
      "\u001b[1;31mAttributeError\u001b[0m: 'WebElement' object has no attribute 'sends_keys'"
     ]
    }
   ],
   "source": [
    "from selenium import webdriver\n",
    "import chromedriver_autoinstaller as ca\n",
    "import time, os, sys\n",
    "from selenium.webdriver.common.by import By\n",
    "import pandas as pd\n",
    "\n",
    "def ts(x):\n",
    "    time.sleep(x)\n",
    "\n",
    "driver = webdriver.Chrome(ca.install())\n",
    "ts(0.1); driver.get('https://korean.visitkorea.or.kr/main/main.do')\n",
    "driver.maximize_window()\n",
    "\n",
    "ts(1);driver.find_element(By.ID, 'placeHolder').send_keys('여름여행'+'\\n')\n",
    "\n",
    "ts(0.1);driver.find_element(By.CLASS_NAME, \"option\").click()\n",
    "ts(0.1);driver.find_element(By.XPATH, '//span[text()=\"#강원\"]').click()\n",
    "ts(0.1);driver.find_element(By.XPATH, '//*[@id=\"contents\"]/div/div[1]/div[3]/div[3]/div[2]/a[1]').click()\n",
    "\n",
    "c = []\n",
    "\n",
    "for i in range(1,12):\n",
    "    a = driver.find_element(By.XPATH, f'//*[@id=\"listBody\"]/ul/li[{i}]/div[2]/div[1]/a')\n",
    "    b = a.text\n",
    "    b.splitlines()\n",
    "    c.append(b)\n",
    "\n",
    "with open('폴더.txt', 'w') as file:\n",
    "    file.write('\\n'.join(c))"
   ]
  },
  {
   "cell_type": "code",
   "execution_count": null,
   "metadata": {},
   "outputs": [],
   "source": []
  }
 ],
 "metadata": {
  "kernelspec": {
   "display_name": "Python 3",
   "language": "python",
   "name": "python3"
  },
  "language_info": {
   "codemirror_mode": {
    "name": "ipython",
    "version": 3
   },
   "file_extension": ".py",
   "mimetype": "text/x-python",
   "name": "python",
   "nbconvert_exporter": "python",
   "pygments_lexer": "ipython3",
   "version": "3.10.9"
  },
  "orig_nbformat": 4
 },
 "nbformat": 4,
 "nbformat_minor": 2
}
