{
 "cells": [
  {
   "cell_type": "code",
   "execution_count": null,
   "metadata": {},
   "outputs": [],
   "source": [
    "from bs4 import BeautifulSoup\n",
    "from selenium import webdriver\n",
    "from selenium.webdriver.common.keys import Keys\n",
    "from selenium.webdriver.common.by import By\n",
    "import chromedriver_autoinstaller as ca\n",
    "import urllib.request, time, os, math, requests\n",
    "\n",
    "query_txt = input(\"검색 : \")\n",
    "user_cnt = int(input(\"개수 : \"))\n",
    "\n",
    "now = \"c:/py_temp/\" + time.strftime(\"%Y%m%d_%H%M%S\") + \"-\" + query_txt\n",
    "os.makedirs(now)\n",
    "os.chdir(now)\n",
    "\n",
    "try:\n",
    "    driver = webdriver.Chrome()\n",
    "    driver.get(\"https://pixabay.com/images/search/\" + query_txt)\n",
    "except:\n",
    "    pass\n",
    "\n",
    "a = user_cnt // 100 + 1\n",
    "for _ in range(a):\n",
    "    for _ in range(6):\n",
    "        time.sleep(3)\n",
    "        driver.find_element(By.XPATH, \"//body\").send_keys(Keys.END)\n",
    "    if a > 1:\n",
    "        driver.find_element(\n",
    "            By.XPATH, '//*[@id=\"app\"]/div[1]/div/div[2]/div[4]/div[2]/a'\n",
    "        ).send_keys(Keys.ENTER)\n",
    "\n",
    "soup = BeautifulSoup(driver.page_source, \"html.parser\")\n",
    "a = soup.find_all(\"img\")\n",
    "img_src = []\n",
    "for i in a:\n",
    "    try:\n",
    "        img_src.append(i[\"src\"])\n",
    "    except:\n",
    "        continue\n",
    "\n",
    "for idx, save_img in enumerate(img_src, start=1):\n",
    "    # 이미지 URL이 \"*.jpg\"로 끝나는 경우에만 다운로드\n",
    "    if save_img.lower().endswith(\".jpg\"):\n",
    "        response = requests.get(save_img)\n",
    "        if response.status_code == 200:\n",
    "            # 이미지 파일 저장 경로\n",
    "            file_path = os.path.join(now, str(idx) + \".jpg\")\n",
    "            with open(file_path, \"wb\") as f:\n",
    "                f.write(response.content)\n",
    "\n",
    "    if idx == user_cnt:\n",
    "        break\n",
    "\n",
    "driver.close()"
   ]
  }
 ],
 "metadata": {
  "kernelspec": {
   "display_name": "base",
   "language": "python",
   "name": "python3"
  },
  "language_info": {
   "name": "python",
   "version": "3.10.9"
  },
  "orig_nbformat": 4
 },
 "nbformat": 4,
 "nbformat_minor": 2
}
